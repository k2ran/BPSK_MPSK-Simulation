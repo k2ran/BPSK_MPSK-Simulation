{
 "cells": [
  {
   "cell_type": "code",
   "execution_count": 1,
   "id": "e77ea3cc",
   "metadata": {},
   "outputs": [],
   "source": [
    "def sum_calc(strings):\n",
    "    s = 0\n",
    "    for i in strings:\n",
    "        s  = s + sorted_messages[i]\n",
    "    return s"
   ]
  },
  {
   "cell_type": "code",
   "execution_count": 6,
   "id": "50733053",
   "metadata": {},
   "outputs": [
    {
     "name": "stdout",
     "output_type": "stream",
     "text": [
      "{'[0, 0, 0, 0, 1]': '', '[0, 0, 0, 1, 0]': '', '[1, 0, 0, 0, 0, 0]': '', '[1, 1, 1, 1, 1]': '', '[0, 0, 0, 1, 1]': ''}\n"
     ]
    }
   ],
   "source": [
    "codes = {}\n",
    "for i in List1:\n",
    "    codes[i] = ''\n",
    "\n",
    "def code_change(list_new, i):\n",
    "    for j in list_new:\n",
    "        if list_new.index(j) <= i:\n",
    "            codes[j] = codes.get(j, '') + '1'\n",
    "        else:\n",
    "            codes[j] = codes.get(j, '') + '0'\n",
    "    return True\n",
    "\n",
    "print(codes)"
   ]
  },
  {
   "cell_type": "code",
   "execution_count": 8,
   "id": "a4d1a75a",
   "metadata": {},
   "outputs": [],
   "source": [
    "def huffman(L, new_l):\n",
    "    enter = False\n",
    "    s = 0\n",
    "    change = False\n",
    "    for i in L:\n",
    "        if isinstance(i, list):\n",
    "            if len(i) != 1:\n",
    "                enter = True\n",
    "                sum_i = sum_calc(i)\n",
    "                k = 0\n",
    "                for j in i:\n",
    "                    k += sorted_messages[j]\n",
    "                    if (k >= int(0.4 * sum_i) and k <= int(0.6 * sum_i)) or (i.index(j)==len(i)-2):\n",
    "                        ind = i.index(j)\n",
    "                        new_l.append(i[:ind+1])\n",
    "                        new_l.append(i[ind+1:])\n",
    "                        change = code_change(i, ind)\n",
    "                        new_l.remove(i)\n",
    "                        break\n",
    "            elif L.index(i) == len(L) - 1 and not enter:\n",
    "                return new_l, True\n",
    "        else:\n",
    "            sum_2 = sum_calc(L)\n",
    "            s += sorted_messages[i]\n",
    "            if s >= int(0.4 * sum_2) and s <= int(0.6 * sum_2) or (L.index(i)==len(L)-2):\n",
    "                ind = L.index(i)\n",
    "                new_l.append(L[:ind+1])\n",
    "                new_l.append(L[ind+1:])\n",
    "                change = code_change(L, ind)\n",
    "                break\n",
    "            \n",
    "    return new_l, False"
   ]
  },
  {
   "cell_type": "code",
   "execution_count": 11,
   "id": "ee980c37",
   "metadata": {},
   "outputs": [
    {
     "name": "stdout",
     "output_type": "stream",
     "text": [
      "{'[0, 0, 0, 0, 1]': '1111', '[0, 0, 0, 1, 0]': '1110', '[1, 0, 0, 0, 0, 0]': '110', '[1, 1, 1, 1, 1]': '10', '[0, 0, 0, 1, 1]': '0'}\n"
     ]
    }
   ],
   "source": [
    "List1 = ['[0, 0, 0, 0, 1]', '[0, 0, 0, 1, 0]', '[1, 0, 0, 0, 0, 0]', '[1, 1, 1, 1, 1]', '[0, 0, 0, 1, 1]']\n",
    "new_l = []\n",
    "val = False\n",
    "codes = {}\n",
    "for i in List1:\n",
    "    codes[i] = '' \n",
    "\n",
    "while not val:\n",
    "    List1, val = huffman(List1, new_l)\n",
    "#     print(new_l)\n",
    "#     print(codes)\n",
    "\n",
    "print(codes)"
   ]
  },
  {
   "cell_type": "code",
   "execution_count": 10,
   "id": "ecef5edd",
   "metadata": {},
   "outputs": [],
   "source": [
    "sorted_messages = {'[0, 0, 0, 0, 1]': 1, '[0, 0, 0, 1, 0]': 1, '[1, 0, 0, 0, 0, 0]': 5, '[1, 1, 1, 1, 1]': 11, '[0, 0, 0, 1, 1]': 12}"
   ]
  },
  {
   "cell_type": "code",
   "execution_count": null,
   "id": "c0e9b4c6",
   "metadata": {},
   "outputs": [],
   "source": []
  }
 ],
 "metadata": {
  "kernelspec": {
   "display_name": "Python 3 (ipykernel)",
   "language": "python",
   "name": "python3"
  },
  "language_info": {
   "codemirror_mode": {
    "name": "ipython",
    "version": 3
   },
   "file_extension": ".py",
   "mimetype": "text/x-python",
   "name": "python",
   "nbconvert_exporter": "python",
   "pygments_lexer": "ipython3",
   "version": "3.9.13"
  }
 },
 "nbformat": 4,
 "nbformat_minor": 5
}
